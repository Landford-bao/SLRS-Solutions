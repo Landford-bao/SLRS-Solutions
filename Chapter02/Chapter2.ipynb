{
 "cells": [
  {
   "cell_type": "markdown",
   "metadata": {},
   "source": [
    "# Problems of Chapter2"
   ]
  },
  {
   "cell_type": "markdown",
   "metadata": {},
   "source": [
    "## 2-1 Insertion sort on small arrays in merge sort\n",
    "> Although merge sort runs in $\\Theta(n\\lg n)$ worst-case time and insertion sort runs in $\\Theta(n^2)$ worst-case time, the constant factors in insertion sort can make it faster in practice for small problem sizes on many machines. Thus, it makes sense to **_coarsen_** the leaves of the recursion by using insertion sort within merge sort when subproblems become sufficiently small. Consider a modification to merge sort in which $n / k$ sublists of length $k$ are sorted using insertion sort and then merged using the standard merging mechanism, where $k$ is a value to be determined.\n",
    ">\n",
    "> **a.** Show that insertion sort can sort the $n / k$ sublists, each of length $k$, in $\\Theta(nk)$ worst-case time.\n",
    ">\n",
    "> **b.** Show how to merge the sublists in $\\Theta(n\\lg(n / k))$ worst-case time.\n",
    ">\n",
    "> **c.** Given that the modified algorithm runs in $\\Theta(nk + n\\lg(n / k))$ worst-case time, what is the largest value of $k$ as a function of $n$ for which the modified algorithm has the same running time as standard merge sort, in terms of $\\Theta$-notation?\n",
    ">\n",
    "> **d.** How should we choose $k$ in practice?\n",
    "\n"
   ]
  },
  {
   "cell_type": "markdown",
   "metadata": {},
   "source": [
    "### Solution:\n",
    "\n",
    "**a.** The worst-case time to sort a list of length $k$ by insertion sort is $\\Theta(k^2)$. Therefore, sorting $n / k$ sublists, each of length $k$ takes $\\Theta(k^2 \\cdot n / k) = \\Theta(nk)$ worst-case time.\n",
    "\n",
    "**b.** We have $n / k$ sorted sublists each of length $k$. To merge these $n / k$ sorted sublists to a single sorted list of length $n$, we have to take $2$ sublists at a time and continue to merge them. This will result in $\\lg(n / k)$ steps and we compare $n$ elements in each step. Therefore, the worst-case time to merge the sublists is $\\Theta(n\\lg(n / k))$.\n",
    "\n",
    "**c.** The modified algorithm has time complexity as standard merge sort when $\\Theta(nk + n\\lg(n / k)) = \\Theta(n\\lg n)$. According to the definition of $\\Theta$ in Page 44, we know that, $ for\\ all\\ n \\geq n_0 $\n",
    "\n",
    "$$\n",
    "\\begin{aligned}\n",
    "0\\leq c_1 nlgn \\leq nk + nlgn + nlgk \\leq c_2nlgn   \\\\\\\n",
    "\\implies c_1 lgn \\leq k + lgn + lgk \\leq c_2lgn   \\\\\\\n",
    "\\implies (c_1-1) lgn \\leq k + lgk \\leq (c_2-1)lgn   \\\\\\\n",
    "and\\ \\ lgk = \\Theta (k)   \\\\\\\n",
    "\\implies \\Theta (k+lgk) = \\Theta (k) = lgn  \\\\\\\n",
    "\\end{aligned}\n",
    "$$\n",
    "In particular, for any constant choice of k, the asymptotics are the same.\n",
    "\n",
    "**d.** Choose $k$ be the largest length of sublist on which insertion sort is faster than merge sort. (I don't know)"
   ]
  },
  {
   "cell_type": "markdown",
   "metadata": {},
   "source": [
    "## 2-2 Correctness of bubblesort\n",
    "> Bubblesort is a popular, but inefficient, sorting algorithm. It works by repeatedly swapping adjacent elements that are out of order.\n",
    ">\n",
    "> ```python\n",
    "> BUBBLESORT(A)\n",
    ">     for i = 1 to A.length - 1\n",
    ">         for j = A.length downto i + 1\n",
    ">             if A[j] < A[j - 1]\n",
    ">                 exchange A[j] with A[j - 1]\n",
    "> ```\n",
    ">\n",
    "> **a.** Let $A'$ denote the output of $\\text{BUBBLESORT}(A)$ To prove that $\\text{BUBBLESORT}$ is correct, we need to prove that it terminates and that\n",
    ">\n",
    "> $$A'[1] \\le A'[2] \\le \\cdots \\le A'[n], \\tag{2.3}$$\n",
    ">\n",
    "> where $n = A.length$. In order to show that $\\text{BUBBLESORT}$ actually sorts, what else do we need to prove?\n",
    ">\n",
    "> The next two parts will prove inequality $\\text{(2.3)}$.\n",
    ">\n",
    "> **b.** State precisely a loop invariant for the **for** loop in lines 2–4, and prove that this loop invariant holds. Your proof should use the structure of the loop invariant proof presented in this chapter.\n",
    ">\n",
    "> **c.** Using the termination condition of the loop invariant proved in part (b), state a loop invariant for the **for** loop in lines 1–4 that will allow you to prove inequality $\\text{(2.3)}$. Your proof should use the structure of the loop invariant proof presented in this chapter.\n",
    ">\n",
    "> **d.** What is the worst-case running time of bubblesort? How does it compare to the running time of insertion sort?\n",
    "\n",
    "**a.** $A'$ consists of the elements in $A$ but in sorted order.We need to prove that $A'$ contains the same elements as A, which is easily\n",
    "seen to be true because the only modification we make to A is swapping its elements, so the resulting array must contain a rearrangement of the\n",
    "elements in the original array.\n",
    "\n",
    "**b.** **Loop invariant:** At the start of each iteration of the **for** loop of lines 2-4, the subarray $A[j..n]$ consists of the elements originally in $A[j..n]$ before entering the loop but possibly in a different order and the first element $A[j]$ is the smallest among them.\n",
    "\n",
    "**Initialization:** Initially the subarray contains only the last element $A[n]$, which is trivially the smallest element of the subarray.\n",
    "\n",
    "**Maintenance:** In every step we compare $A[j]$ with $A[j - 1]$ and make $A[j - 1]$ the smallest among them. After the iteration, the length of the subarray increases by one and the first element is the smallest of the subarray.\n",
    "\n",
    "**Termination:** The loop terminates when $j = i$. According to the statement of loop invariant, $A[i]$ is the smallest among $A[i..n]$ and $A[i..n]$ consists of the elements originally in $A[i..n]$ before entering the loop.\n",
    "\n",
    "**c.** **Loop invariant:** At the start of each iteration of the **for** loop of lines 1-4, the subarray $A[1..i − 1]$ consists of the $i - 1$ smallest elements in $A[1..n]$ in sorted order. $A[i..n]$ consists of the $n - i + 1$ remaining elements in $A[1..n]$.\n",
    "\n",
    "**Initialization:** Initially the subarray $A[1..i − 1]$ is empty and trivially this is the smallest element of the subarray.\n",
    "\n",
    "**Maintenance:** From part (b), after the execution of the inner loop, $A[i]$ will be the smallest element of the subarray $A[i..n]$. And in the beginning of the outer loop, $A[1..i − 1]$ consists of elements that are smaller than the elements of $A[i..n]$, in sorted order. So, after the execution of the outer loop, subarray $A[1..i]$ will consists of elements that are smaller than the elements of $A[i + 1..n]$, in sorted order.\n",
    "\n",
    "**Termination:** The loop terminates when $i = A.length$. At that point the array $A[1..n]$ will consists of all elements in sorted order.\n",
    "\n",
    "**d.** The $i$th iteration of the **for** loop of lines 1-4 will cause $n − i$ iterations of the **for** loop of lines 2-4, each with constant time execution, so the worst-case running time of bubble sort is $\\Theta(n^2)$ which is same as the worst-case running time of insertion sort. \n",
    "\n",
    "However, insertion sort has best-case running time of $\\Theta(n)$ which is faster than the best-case running time $\\Theta(n^2)$ of bubble sort."
   ]
  },
  {
   "cell_type": "code",
   "execution_count": 1,
   "metadata": {},
   "outputs": [],
   "source": [
    "# Source-Code in python\n",
    "def BUBBLESORT(A):\n",
    "    import copy\n",
    "    # copy the input array\n",
    "    B = copy.copy(A)\n",
    "    # n is the number of the input array.\n",
    "    n = len(B)\n",
    "    for i in range(0, n-1):\n",
    "        for j in range(n-1, i, -1):\n",
    "            if B[j] < B[j - 1]:\n",
    "                B[j], B[j-1] = B[j-1], B[j]\n",
    "    return B"
   ]
  },
  {
   "cell_type": "code",
   "execution_count": 2,
   "metadata": {},
   "outputs": [
    {
     "name": "stdout",
     "output_type": "stream",
     "text": [
      "[2, 3, 6, 10, 11, 12, 22, 23, 79]\n"
     ]
    }
   ],
   "source": [
    "# example output\n",
    "A = [2, 10, 23, 3, 6, 12, 79, 11, 22]\n",
    "print(BUBBLESORT(A))"
   ]
  },
  {
   "cell_type": "markdown",
   "metadata": {},
   "source": [
    "> The following code fragment implements Horner's rule for evaluating a polynomial\n",
    ">\n",
    "> $$\n",
    "> \\begin{aligned}\n",
    "> P(x) & = \\sum_{k = 0}^n a_k x^k \\\\\\\\\n",
    ">      & = a_0 + x(a_1 + x (a_2 + \\cdots + x(a_{n - 1} + x a_n) \\cdots)) \\\\\\\\\n",
    "> \\end{aligned}\n",
    "> $$\n",
    ">\n",
    "> given the coefficients $a_0, a_1, \\ldots, a_n$ and a value of $x$:\n",
    ">\n",
    "> ```cpp\n",
    "> y = 0\n",
    "> for i = n downto 0\n",
    ">     y = a[i] + x * y\n",
    "> ```\n",
    ">\n",
    "> **a.** In terms of $\\Theta$-notation, what is the running time of this code fragment for Horner's rule?\n",
    ">\n",
    "> **b.** Write pseudocode to implement the naive polynomial-evaluation algorithm that computes each term of the polynomial from scratch. What is the running time of this algorithm? How does it compare to Horner's rule\n",
    ">\n",
    "> **c.** Consider the following loop invariant: At the start of each iteration of the **for** loop of lines 2-3,\n",
    ">\n",
    "> $$y = \\sum_{k = 0}^{n - (i + 1)} a_{k + i + 1} x^k.$$\n",
    ">\n",
    "> Interpret a summation with no terms as equaling $0$. Following the structure of the loop invariant proof presented in this chapter, use this loop invariant to show that, at termination, $y = \\sum_{k = 0}^n a_k x^k$.\n",
    ">\n",
    "> **d.** Conclude by arguing that the given code fragment correctly evaluates a polynomial characterized by the coefficients $a_0, a_1, \\ldots, a_n$.\n"
   ]
  },
  {
   "cell_type": "markdown",
   "metadata": {},
   "source": [
    "### Solution\n",
    "**a.**  $\\Theta(n)$\n",
    "\n",
    "**b.** \n",
    "Pseudocode \n",
    "```python\n",
    "NAIVE_POLYNOMIAL_EVALUATION\n",
    "    y = a_1\n",
    "    for i = 2 to n \n",
    "        for j = 2 to i\n",
    "            term = a_i * x\n",
    "    y = y + term     \n",
    "    return y\n",
    "```\n",
    "The running time of this algorithm is $\\Theta(n^2)$. Comparing it with Horner'method, we can konw that the Horner's method is better.\n",
    "\n",
    "**c.**\n",
    "\n",
    "**Initialization:** At the start, i is n and the summation y is a_n.\n",
    "\n",
    "**Maintanence:** Every time summation times x then add a_i, which is the input y in next loop, when i go from n to o. At the end of the ith loop, we get the polynomial $ y = \\displaystyle\\sum_{k=0}^{n-i} a_{k+i} x^k$.\n",
    "\n",
    "$$\n",
    "\\begin{aligned}\n",
    "y & = a_i + x \\sum_{k = 0}^{n - (i+1) } a_{k + (i+1) } x^k \\\\\\\\\n",
    "  & = a_i x^0 + \\sum_{k = 0}^{n - (i+1) } a_{k + (i+1) } x^{k + 1} \\\\\\\\\n",
    "  & = a_i x^0 + \\sum_{k = 1}^{n - i} a_{k + i} x^k \\\\\\\\\n",
    "  & = \\sum_{k = 0}^{n - i} a_{k + i} x^k.\n",
    "\\end{aligned}\n",
    "$$\n",
    "\n",
    "**Termination:** At the end of the iteration, i reaches 0 then the polynomial is $ y = \\displaystyle\\sum_{k=0}^{n} a_{k} x^k $ \n",
    "\n",
    "**d.** As shown in **c.**, the code fragment correctly evaluates a polynomial characterized by the coefficients $ a_0, a_1,...,a_n$."
   ]
  },
  {
   "cell_type": "code",
   "execution_count": 31,
   "metadata": {},
   "outputs": [],
   "source": [
    "# Source Code in python\n",
    "# An array A, contents all coefficients of the polynomial\n",
    "def HORNER_RULE(A, x):\n",
    "    y = 0\n",
    "    n = len(A)\n",
    "    for i in range(n-1, -1, -1):\n",
    "        y = A[i] + x * y\n",
    "    return y\n",
    "\n",
    "def NAIVE_POLYNOMIAL_EVALUATION(A, x):\n",
    "    y = A[0]\n",
    "    n = len(A)\n",
    "    for i in range(1, n): \n",
    "        temp = 1\n",
    "        for j in range(1, i+1):\n",
    "            temp = temp * x\n",
    "        y = y + A[i] * temp\n",
    "    return y "
   ]
  },
  {
   "cell_type": "code",
   "execution_count": 32,
   "metadata": {},
   "outputs": [
    {
     "name": "stdout",
     "output_type": "stream",
     "text": [
      "591.46484375\n",
      "591.46484375\n"
     ]
    }
   ],
   "source": [
    "# test\n",
    "import math\n",
    "A = [2, 3, 4, 5, 6, 7, 8, 0,0, 10]\n",
    "x = 1.5\n",
    "print(HORNER_RULE(A, x))\n",
    "print(NAIVE_POLYNOMIAL_EVALUATION(A, x))"
   ]
  },
  {
   "cell_type": "markdown",
   "metadata": {},
   "source": [
    "## 2-4 Inversions\n",
    "> Let $A[1..n]$ be an array of $n$ distinct numbers. If $i < j$ and $A[i] > A[j]$, then the pair $(i, j)$ is called an **_inversion_** of $A$.\n",
    ">\n",
    "> **a.** List the five inversions in the array $\\langle 2, 3, 8, 6, 1 \\rangle$.\n",
    ">\n",
    "> **b.** What array with elements from the set $\\\\{1, 2, \\ldots, n\\\\}$ has the most inversions? How many does it have?\n",
    ">\n",
    "> **c.** What is the relationship between the running time of insertion sort and the number of inversions in the input array? Justify your answer.\n",
    ">\n",
    "> **d.** Give an algorithm that determines the number of inversions in any permutation of $n$ elements in $\\Theta(n\\lg n)$ worst-case time. ($\\textit{Hint:}$ Modify merge sort).\n",
    "\n"
   ]
  },
  {
   "cell_type": "markdown",
   "metadata": {},
   "source": [
    "## Solution\n",
    "\n",
    "**a.** Five inversions pair (1,5), (2,5), (3,5), (3,4), (4,5).\n",
    "\n",
    "**b.** The array in decreasing order has most inversions. Suppose the number of the array we choosed is m, the every two elements set is an inversion pair. At total, there are $\\left(\n",
    "    \\begin{array}{c}\n",
    "      m \\\\\n",
    "      2\n",
    "    \\end{array}\n",
    "  \\right) = \\frac{n(n-1)}{2}$ inversions pairs.\n",
    "\n",
    "**c.** The running time of insertion sort is a constant times the number of inversions. Let $I(i)$ denote the number of $j < i$ such that $A[j] > A[i]$. Then $\\sum_{i = 1}^n I(i)$ equals the number of inversions in $A$.\n",
    "\n",
    "Now consider the **while** loop on lines 5-7 of the insertion sort algorithm. The loop will execute once for each element of $A$ which has index less than $j$ is larger than $A[j]$. Thus,\n",
    "it will execute $I(j)$ times. We reach this **while** loop once for each iteration\n",
    "of the **for** loop, so the number of constant time steps of insertion sort is $\\sum_{j = 1}^n I(j)$ which is exactly the inversion number of $A$\n",
    "\n",
    "**d.** \n",
    "\n",
    "Pseudocode\n",
    "```python\n",
    "\n",
    "MERGE(A, start, middle, end):\n",
    "    # inversions stands for the number of inversions pairs.\n",
    "    inversions = 0\n",
    "    n1 = middle - start + 1\n",
    "    n2 = end - middle\n",
    "    #  let L[1..n1+1] and R[1..n2+1] be new arrays \n",
    "    for i = 0 in range(0, n1):\n",
    "        L[i] = A[start + i]\n",
    "    for j in range(0, n2):\n",
    "        R[j] = A[middle + j]\n",
    "    L[n1] = math.inf\n",
    "    R[n2] = math.inf\n",
    "    i = 0\n",
    "    j = 0\n",
    "    for k in range(start, end):\n",
    "        if L[i] <= R[j]\n",
    "            A[k] = L[i]\n",
    "            i = i + 1\n",
    "        else \n",
    "            A[k] = R[j]\n",
    "            j = j + 1\n",
    "            inversions = inversions + n1 - i\n",
    "            \n",
    "    return inversions\n",
    "\n",
    "MERGE_SORT(A, start, end):\n",
    "    inversions = 0\n",
    "    if start < end :\n",
    "        middle = floor((start+end)/2)\n",
    "        left = MERGE_SORT(A, start, middle)  \n",
    "        right = MERGE_SORT(A, middle+1, end) \n",
    "        inversions = MERGE(A start, middle, ) + inversions + left + right\n",
    "        return inversions\n",
    "```"
   ]
  },
  {
   "cell_type": "code",
   "execution_count": 83,
   "metadata": {},
   "outputs": [],
   "source": [
    "# Source Code in python\n",
    "\n",
    "def MERGE(A, start, middle, end):\n",
    "    import math\n",
    "    # inversions stands for the number of inversions pairs.\n",
    "    inversions = 0\n",
    "    n1 = middle - start + 1\n",
    "    n2 = end - middle\n",
    "    #  let L[1..n1+1] and R[1..n2+1] be new arrays \n",
    "    L = [None] * ( n1 + 1 )\n",
    "    R = [None] * ( n2 + 1 )\n",
    "    for i in range(0, n1):\n",
    "        L[i] = A[start + i]\n",
    "    for j in range(0, n2):\n",
    "        R[j] = A[middle + j]\n",
    "    L[n1] = math.inf\n",
    "    R[n2] = math.inf\n",
    "    i = 0\n",
    "    j = 0\n",
    "    for k in range(start, end):\n",
    "        if L[i] <= R[j]:\n",
    "            A[k] = L[i]\n",
    "            i = i + 1\n",
    "        else: \n",
    "            A[k] = R[j]\n",
    "            j = j + 1\n",
    "            inversions = inversions + n1 - i\n",
    "    return inversions\n",
    "\n",
    "def MERGE_SORT(A, start, end):\n",
    "    inversions = 0\n",
    "    if start < end :\n",
    "        middle = math.floor((start+end)/2)\n",
    "        left = MERGE_SORT(A, start, middle)\n",
    "        #print(left)\n",
    "        right = MERGE_SORT(A, middle+1, end) \n",
    "        #print(right)\n",
    "        inversions = MERGE(A, start, middle, end) + inversions + left + right\n",
    "        #print(inversions)\n",
    "        return inversions\n",
    "    else:\n",
    "        return inversions"
   ]
  },
  {
   "cell_type": "code",
   "execution_count": 84,
   "metadata": {},
   "outputs": [],
   "source": [
    "B = [1,2,6,3]"
   ]
  },
  {
   "cell_type": "code",
   "execution_count": 85,
   "metadata": {},
   "outputs": [
    {
     "data": {
      "text/plain": [
       "0"
      ]
     },
     "execution_count": 85,
     "metadata": {},
     "output_type": "execute_result"
    }
   ],
   "source": [
    "MERGE_SORT(B, 0, len(B)-1)"
   ]
  }
 ],
 "metadata": {
  "kernelspec": {
   "display_name": "Python 3",
   "language": "python",
   "name": "python3"
  },
  "language_info": {
   "codemirror_mode": {
    "name": "ipython",
    "version": 3
   },
   "file_extension": ".py",
   "mimetype": "text/x-python",
   "name": "python",
   "nbconvert_exporter": "python",
   "pygments_lexer": "ipython3",
   "version": "3.7.3"
  }
 },
 "nbformat": 4,
 "nbformat_minor": 4
}
